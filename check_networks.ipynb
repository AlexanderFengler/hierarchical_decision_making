{
 "cells": [
  {
   "cell_type": "code",
   "execution_count": 1,
   "metadata": {},
   "outputs": [],
   "source": [
    "import hddm\n",
    "import numpy as np\n",
    "import scipy as scp\n",
    "import os \n",
    "import sys\n",
    "import matplotlib.pyplot as plt\n",
    "import matplotlib\n",
    "import seaborn as sns"
   ]
  },
  {
   "cell_type": "code",
   "execution_count": 2,
   "metadata": {},
   "outputs": [
    {
     "name": "stdout",
     "output_type": "stream",
     "text": [
      "tanh\n",
      "tanh\n",
      "tanh\n",
      "linear\n"
     ]
    }
   ],
   "source": [
    "# Check network outputs\n",
    "\n",
    "# Set model\n",
    "model = \"ddm_seq2_no_bias\"\n",
    "# Load a torch_network\n",
    "torch_model = hddm.network_inspectors.load_torch_mlp(model = model)\n",
    "\n",
    "# Set some metadata\n",
    "n_choices = hddm.model_config.model_config[model]['n_choices']\n",
    "choice_options = hddm.model_config.model_config[model]['choices']\n",
    "rt_range = (0, 20)\n",
    "rt_steps = 0.01\n",
    "theta = hddm.model_config.model_config[model]['default_params']\n",
    "plot_colors = ['black', 'red', 'green', 'blue']\n"
   ]
  },
  {
   "cell_type": "code",
   "execution_count": 3,
   "metadata": {},
   "outputs": [],
   "source": [
    "# Generate data to evaluate net on\n",
    "rts = np.expand_dims(np.concatenate([np.arange(rt_range[0], rt_range[1], rt_steps) for i in range(n_choices)]), axis = 1) #, np.arange(0,10, 0.01), np.arange(0,10, 0.01)]), axis = 1)\n",
    "choices = np.concatenate([[c for i in range(int((rt_range[1] - rt_range[0]) / rt_steps))] for c in choice_options])\n",
    "thetas = np.tile(np.array(theta), reps = (rts.shape[0],1))\n",
    "my_data = np.column_stack([thetas, rts, choices]).astype(np.float32)\n",
    "my_data = np.column_stack([my_data, np.exp(torch_model.predict_on_batch(my_data))])"
   ]
  },
  {
   "cell_type": "code",
   "execution_count": 4,
   "metadata": {},
   "outputs": [
    {
     "data": {
      "image/png": "[encoded data removed]",
      "text/plain": [
       "<Figure size 640x480 with 1 Axes>"
      ]
     },
     "metadata": {},
     "output_type": "display_data"
    }
   ],
   "source": [
    "# Plot\n",
    "for c in choice_options: #  2, 3]:\n",
    "    plt.plot(my_data[my_data[:, -2] == c, -3], my_data[my_data[:, -2] == c, -1], \n",
    "             color = plot_colors[c])  \n",
    "\n",
    "plt.show()"
   ]
  },
  {
   "cell_type": "code",
   "execution_count": 5,
   "metadata": {},
   "outputs": [
    {
     "name": "stdout",
     "output_type": "stream",
     "text": [
      "None\n",
      "{'vl1', 't', 'vl2', 'vh'}\n",
      "1.1388371060513998\n",
      "          vh       vl1       vl2         a         t\n",
      "0    1.17622 -2.146752  0.720742  1.198016  1.648032\n",
      "1    1.17622 -2.146752  0.720742  1.236851  1.648032\n",
      "2    1.17622 -2.146752  0.720742  1.198761  1.648032\n",
      "3    1.17622 -2.146752  0.720742  1.187879  1.648032\n",
      "4    1.17622 -2.146752  0.720742  1.196553  1.648032\n",
      "..       ...       ...       ...       ...       ...\n",
      "995  1.17622 -2.146752  0.720742  1.227021  1.648032\n",
      "996  1.17622 -2.146752  0.720742  1.223229  1.648032\n",
      "997  1.17622 -2.146752  0.720742  1.226371  1.648032\n",
      "998  1.17622 -2.146752  0.720742  1.189645  1.648032\n",
      "999  1.17622 -2.146752  0.720742  1.194518  1.648032\n",
      "\n",
      "[1000 rows x 5 columns]\n"
     ]
    }
   ],
   "source": [
    "# Simulate DATA\n",
    "\n",
    "# Test Regressor\n",
    "n_samples_per_subject = 1000\n",
    "n_subjects = 1\n",
    "\n",
    "data, full_parameter_dict = hddm.simulators.hddm_dataset_generators.simulator_h_c(n_subjects = n_subjects,\n",
    "                                                                                  n_trials_per_subject = n_samples_per_subject,\n",
    "                                                                                  model = model,\n",
    "                                                                                  p_outlier = 0.00,\n",
    "                                                                                  conditions = None,\n",
    "                                                                                  depends_on = None,\n",
    "                                                                                  regression_models = ['a ~ covariate'],\n",
    "                                                                                  regression_covariates = {'covariate': {'type': 'continuous', \n",
    "                                                                                                           'range': (0, 4)}},\n",
    "                                                                                  group_only_regressors = False,\n",
    "                                                                                  group_only = None,\n",
    "                                                                                  fixed_at_default = None) #['z'])\n"
   ]
  },
  {
   "cell_type": "code",
   "execution_count": 6,
   "metadata": {},
   "outputs": [
    {
     "data": {
      "text/plain": [
       "{'vl1': -2.146752484767409,\n",
       " 'vl1_std': 0.33535160050810114,\n",
       " 't': 1.6480316460129378,\n",
       " 't_std': 0.18908691332185157,\n",
       " 'vl2': 0.7207417763866204,\n",
       " 'vl2_std': 0.19189453689613267,\n",
       " 'vh': 1.1762203899654011,\n",
       " 'vh_std': 0.3970111822674243,\n",
       " 'a_reg': OrderedDict([('a_Intercept', 1.1388371060513998),\n",
       "              ('a_covariate', 0.08221967948413328)]),\n",
       " 'a_reg_std': OrderedDict([('a_Intercept_std', 0.0353909739469888),\n",
       "              ('a_covariate_std', 0.06872316388199655)]),\n",
       " 'a_Intercept': 1.1703724761700451,\n",
       " 'a_covariate': 0.06649852166453608,\n",
       " 'a_Intercept_std': 0.0353909739469888,\n",
       " 'a_covariate_std': 0.06872316388199655}"
      ]
     },
     "execution_count": 6,
     "metadata": {},
     "output_type": "execute_result"
    }
   ],
   "source": [
    "full_parameter_dict"
   ]
  },
  {
   "cell_type": "code",
   "execution_count": 7,
   "metadata": {},
   "outputs": [
    {
     "name": "stdout",
     "output_type": "stream",
     "text": [
      "Setting priors uninformative (LANs only work with uninformative priors for now)\n",
      "tanh\n",
      "tanh\n",
      "tanh\n",
      "linear\n",
      "def custom_likelihood_reg(value, vh, vl1, vl2, a, t, reg_outcomes, p_outlier=0, w_outlier=0.1, **kwargs):\n",
      "    params = locals()\n",
      "    size = int(value.shape[0])\n",
      "    data = np.zeros(((size, 7)), dtype=np.float32)\n",
      "    data[:, 5:] = np.stack([np.absolute(value[\"rt\"]).astype(np.float32), value[\"response\"].astype(np.float32)], axis=1)\n",
      "    cnt=0\n",
      "    for tmp_str in ['vh', 'vl1', 'vl2', 'a', 't']:\n",
      "        if tmp_str in reg_outcomes:\n",
      "            data[:, cnt] = params[tmp_str].loc[value[\"rt\"].index].values\n",
      "            if (data[:, cnt].min() < [-2.5, -2.5, -2.5, 0.3, 0.0][cnt]) or (data[:, cnt].max() > [2.5, 2.5, 2.5, 2.0, 2.0][cnt]):\n",
      "                print(\"boundary violation of regressor part\")\n",
      "                return -np.inf\n",
      "        else:\n",
      "            data[:, cnt] = params[tmp_str]\n",
      "        cnt += 1\n",
      "    return hddm.wfpt.wiener_like_multi_nn_mlp(data, p_outlier=p_outlier, w_outlier=w_outlier, network=kwargs[\"network\"])\n",
      "PRINTING MODEL: \n",
      "ddm_seq2_no_bias\n",
      "{'model': 'ddm_seq2_no_bias', 'likelihood_str': 'def custom_likelihood_reg(value, vh, vl1, vl2, a, t, reg_outcomes, p_outlier=0, w_outlier=0.1, **kwargs):\\n    params = locals()\\n    size = int(value.shape[0])\\n    data = np.zeros(((size, 7)), dtype=np.float32)\\n    data[:, 5:] = np.stack([np.absolute(value[\"rt\"]).astype(np.float32), value[\"response\"].astype(np.float32)], axis=1)\\n    cnt=0\\n    for tmp_str in [\\'vh\\', \\'vl1\\', \\'vl2\\', \\'a\\', \\'t\\']:\\n        if tmp_str in reg_outcomes:\\n            data[:, cnt] = params[tmp_str].loc[value[\"rt\"].index].values\\n            if (data[:, cnt].min() < [-2.5, -2.5, -2.5, 0.3, 0.0][cnt]) or (data[:, cnt].max() > [2.5, 2.5, 2.5, 2.0, 2.0][cnt]):\\n                print(\"boundary violation of regressor part\")\\n                return -np.inf\\n        else:\\n            data[:, cnt] = params[tmp_str]\\n        cnt += 1\\n    return hddm.wfpt.wiener_like_multi_nn_mlp(data, p_outlier=p_outlier, w_outlier=w_outlier, network=kwargs[\"network\"])', 'custom_likelihood_reg': <function custom_likelihood_reg at 0x164abe200>}\n",
      "<function custom_likelihood_reg at 0x164abe200>\n",
      "{'group_only_nodes': ['a_Intercept', 'a_covariate']}\n",
      "['vh', 'vl1', 'vl2', 'a', 't']\n",
      "printing self.nn\n",
      "True\n",
      "More than 2-choice model --> don't flip any responses.\n",
      "Make sure you supplied rt and choice data in appropriate format!\n",
      "Reg Model:\n",
      "{'outcome': 'a', 'model': ' covariate', 'params': ['a_Intercept', 'a_covariate'], 'link_func': <function id_link at 0x164929320>}\n",
      "Uses Identity Link\n",
      "Setting priors uninformative (LANs only work with uninformative priors for now)\n",
      "tanh\n",
      "tanh\n",
      "tanh\n",
      "linear\n",
      "def custom_likelihood(x, vh, vl1, vl2, a, t, p_outlier=0.0, w_outlier=0.1, network = None):\n",
      "    return hddm.wfpt.wiener_like_nn_mlp(x[\"rt\"].values, x[\"response\"].values, np.array([vh, vl1, vl2, a, t], dtype = np.float32), p_outlier=p_outlier, w_outlier=w_outlier, network=network)\n",
      "{'model': 'ddm_seq2_no_bias', 'likelihood_str': 'def custom_likelihood(x, vh, vl1, vl2, a, t, p_outlier=0.0, w_outlier=0.1, network = None):\\n    return hddm.wfpt.wiener_like_nn_mlp(x[\"rt\"].values, x[\"response\"].values, np.array([vh, vl1, vl2, a, t], dtype = np.float32), p_outlier=p_outlier, w_outlier=w_outlier, network=network)', 'custom_likelihood': <function custom_likelihood at 0x164b3c710>}\n",
      "<function custom_likelihood at 0x164b3c710>\n",
      "{}\n",
      "['vh', 'vl1', 'vl2', 'a', 't']\n",
      "printing self.nn\n",
      "True\n",
      "More than 2-choice model --> don't flip any responses.\n",
      "Make sure you supplied rt and choice data in appropriate format!\n"
     ]
    }
   ],
   "source": [
    "# Define the HDDM model\n",
    "def id_link(x):\n",
    "    return x\n",
    "\n",
    "reg_models = [{'model': 'a ~ covariate',\n",
    "               'link_func': id_link}]\n",
    "\n",
    "includes = hddm.model_config.model_config[model]['hddm_include'].copy()\n",
    "n_samples = 1000\n",
    "n_burn = 500\n",
    "\n",
    "hddmnn_torch_reg_model = hddm.HDDMnnRegressor(data,\n",
    "                                          reg_models,\n",
    "                                          informative = False,\n",
    "                                          include = includes,\n",
    "                                          p_outlier = 0.0,\n",
    "                                          w_outlier = 0.01,\n",
    "                                          model = model,\n",
    "                                          network_type = 'torch_mlp')\n",
    "\n",
    "hddmnn_torch_model = hddm.HDDMnn(data,\n",
    "                                informative = False,\n",
    "                                include = includes,\n",
    "                                p_outlier = 0.0,\n",
    "                                w_outlier = 0.1,\n",
    "                                model = model,\n",
    "                                network_type = 'torch_mlp')"
   ]
  },
  {
   "cell_type": "code",
   "execution_count": 8,
   "metadata": {},
   "outputs": [
    {
     "name": "stdout",
     "output_type": "stream",
     "text": [
      " [-----------------100%-----------------] 1000 of 1000 complete in 94.0 sec"
     ]
    },
    {
     "data": {
      "text/plain": [
       "<pymc.MCMC.MCMC at 0x1648cc0d0>"
      ]
     },
     "execution_count": 8,
     "metadata": {},
     "output_type": "execute_result"
    }
   ],
   "source": [
    "# Run sampler\n",
    "hddmnn_torch_reg_model.sample(n_samples,\n",
    "                              burn = n_burn)"
   ]
  },
  {
   "cell_type": "code",
   "execution_count": 9,
   "metadata": {},
   "outputs": [
    {
     "data": {
      "text/plain": [
       "vh             1.236712\n",
       "vl1           -2.296183\n",
       "vl2            0.743478\n",
       "t              1.642208\n",
       "a_Intercept    1.152930\n",
       "a_covariate    0.138271\n",
       "dtype: float64"
      ]
     },
     "execution_count": 9,
     "metadata": {},
     "output_type": "execute_result"
    }
   ],
   "source": [
    "hddmnn_torch_reg_model.get_traces().mean()"
   ]
  },
  {
   "cell_type": "code",
   "execution_count": 10,
   "metadata": {},
   "outputs": [
    {
     "name": "stdout",
     "output_type": "stream",
     "text": [
      " [-----------------100%-----------------] 1000 of 1000 complete in 62.5 sec"
     ]
    },
    {
     "data": {
      "text/plain": [
       "<pymc.MCMC.MCMC at 0x1648a7490>"
      ]
     },
     "execution_count": 10,
     "metadata": {},
     "output_type": "execute_result"
    }
   ],
   "source": [
    "# Run sampler\n",
    "hddmnn_torch_model.sample(n_samples,\n",
    "                          burn = n_burn)"
   ]
  },
  {
   "cell_type": "code",
   "execution_count": 11,
   "metadata": {},
   "outputs": [
    {
     "data": {
      "text/html": [
       "<div>\n",
       "<style scoped>\n",
       "    .dataframe tbody tr th:only-of-type {\n",
       "        vertical-align: middle;\n",
       "    }\n",
       "\n",
       "    .dataframe tbody tr th {\n",
       "        vertical-align: top;\n",
       "    }\n",
       "\n",
       "    .dataframe thead th {\n",
       "        text-align: right;\n",
       "    }\n",
       "</style>\n",
       "<table border=\"1\" class=\"dataframe\">\n",
       "  <thead>\n",
       "    <tr style=\"text-align: right;\">\n",
       "      <th></th>\n",
       "      <th>vh</th>\n",
       "      <th>vl1</th>\n",
       "      <th>vl2</th>\n",
       "      <th>a</th>\n",
       "      <th>t</th>\n",
       "    </tr>\n",
       "  </thead>\n",
       "  <tbody>\n",
       "    <tr>\n",
       "      <th>0</th>\n",
       "      <td>1.150886</td>\n",
       "      <td>-2.398529</td>\n",
       "      <td>0.767295</td>\n",
       "      <td>1.230939</td>\n",
       "      <td>1.613892</td>\n",
       "    </tr>\n",
       "    <tr>\n",
       "      <th>1</th>\n",
       "      <td>1.143730</td>\n",
       "      <td>-2.422220</td>\n",
       "      <td>0.740074</td>\n",
       "      <td>1.223653</td>\n",
       "      <td>1.607099</td>\n",
       "    </tr>\n",
       "    <tr>\n",
       "      <th>2</th>\n",
       "      <td>1.283792</td>\n",
       "      <td>-2.236433</td>\n",
       "      <td>0.751396</td>\n",
       "      <td>1.193550</td>\n",
       "      <td>1.676851</td>\n",
       "    </tr>\n",
       "    <tr>\n",
       "      <th>3</th>\n",
       "      <td>1.146828</td>\n",
       "      <td>-2.174738</td>\n",
       "      <td>0.775661</td>\n",
       "      <td>1.191323</td>\n",
       "      <td>1.642835</td>\n",
       "    </tr>\n",
       "    <tr>\n",
       "      <th>4</th>\n",
       "      <td>1.130848</td>\n",
       "      <td>-2.100832</td>\n",
       "      <td>0.757549</td>\n",
       "      <td>1.193402</td>\n",
       "      <td>1.656801</td>\n",
       "    </tr>\n",
       "    <tr>\n",
       "      <th>...</th>\n",
       "      <td>...</td>\n",
       "      <td>...</td>\n",
       "      <td>...</td>\n",
       "      <td>...</td>\n",
       "      <td>...</td>\n",
       "    </tr>\n",
       "    <tr>\n",
       "      <th>495</th>\n",
       "      <td>1.246566</td>\n",
       "      <td>-2.186271</td>\n",
       "      <td>0.742285</td>\n",
       "      <td>1.215208</td>\n",
       "      <td>1.651308</td>\n",
       "    </tr>\n",
       "    <tr>\n",
       "      <th>496</th>\n",
       "      <td>1.246304</td>\n",
       "      <td>-2.176393</td>\n",
       "      <td>0.722752</td>\n",
       "      <td>1.235341</td>\n",
       "      <td>1.627326</td>\n",
       "    </tr>\n",
       "    <tr>\n",
       "      <th>497</th>\n",
       "      <td>1.276372</td>\n",
       "      <td>-2.265718</td>\n",
       "      <td>0.751307</td>\n",
       "      <td>1.204289</td>\n",
       "      <td>1.631459</td>\n",
       "    </tr>\n",
       "    <tr>\n",
       "      <th>498</th>\n",
       "      <td>1.176364</td>\n",
       "      <td>-2.250745</td>\n",
       "      <td>0.713224</td>\n",
       "      <td>1.197258</td>\n",
       "      <td>1.673332</td>\n",
       "    </tr>\n",
       "    <tr>\n",
       "      <th>499</th>\n",
       "      <td>1.237051</td>\n",
       "      <td>-2.273880</td>\n",
       "      <td>0.746966</td>\n",
       "      <td>1.234452</td>\n",
       "      <td>1.625505</td>\n",
       "    </tr>\n",
       "  </tbody>\n",
       "</table>\n",
       "<p>500 rows × 5 columns</p>\n",
       "</div>"
      ],
      "text/plain": [
       "           vh       vl1       vl2         a         t\n",
       "0    1.150886 -2.398529  0.767295  1.230939  1.613892\n",
       "1    1.143730 -2.422220  0.740074  1.223653  1.607099\n",
       "2    1.283792 -2.236433  0.751396  1.193550  1.676851\n",
       "3    1.146828 -2.174738  0.775661  1.191323  1.642835\n",
       "4    1.130848 -2.100832  0.757549  1.193402  1.656801\n",
       "..        ...       ...       ...       ...       ...\n",
       "495  1.246566 -2.186271  0.742285  1.215208  1.651308\n",
       "496  1.246304 -2.176393  0.722752  1.235341  1.627326\n",
       "497  1.276372 -2.265718  0.751307  1.204289  1.631459\n",
       "498  1.176364 -2.250745  0.713224  1.197258  1.673332\n",
       "499  1.237051 -2.273880  0.746966  1.234452  1.625505\n",
       "\n",
       "[500 rows x 5 columns]"
      ]
     },
     "execution_count": 11,
     "metadata": {},
     "output_type": "execute_result"
    }
   ],
   "source": [
    "hddmnn_torch_model.get_traces()"
   ]
  },
  {
   "cell_type": "code",
   "execution_count": 13,
   "metadata": {},
   "outputs": [
    {
     "name": "stdout",
     "output_type": "stream",
     "text": [
      "Sampling...\n"
     ]
    }
   ],
   "source": [
    "# Generate Data from Posterior Predictive\n",
    "post_pred_torchnn = hddm.utils.post_pred_gen(hddmnn_torch_model,\n",
    "                                             samples = 100,\n",
    "                                             progress_bar = False)\n",
    "#post_pred_torchnn_reg = hddm.utils.post_pred_gen(hddmnn_torch_reg_model, samples = 100, progress_bar = False)"
   ]
  },
  {
   "cell_type": "code",
   "execution_count": 17,
   "metadata": {},
   "outputs": [],
   "source": [
    "mgd = post_pred_torchnn.groupby('sample')"
   ]
  },
  {
   "cell_type": "code",
   "execution_count": 22,
   "metadata": {},
   "outputs": [
    {
     "name": "stdout",
     "output_type": "stream",
     "text": [
      "1000\n",
      "1000\n",
      "1000\n",
      "1000\n",
      "1000\n",
      "1000\n",
      "1000\n",
      "1000\n",
      "1000\n",
      "1000\n",
      "1000\n",
      "1000\n",
      "1000\n",
      "1000\n",
      "1000\n",
      "1000\n",
      "1000\n",
      "1000\n",
      "1000\n",
      "1000\n",
      "1000\n",
      "1000\n",
      "1000\n",
      "1000\n",
      "1000\n",
      "1000\n",
      "1000\n",
      "1000\n",
      "1000\n",
      "1000\n",
      "1000\n",
      "1000\n",
      "1000\n",
      "1000\n",
      "1000\n",
      "1000\n",
      "1000\n",
      "1000\n",
      "1000\n",
      "1000\n",
      "1000\n",
      "1000\n",
      "1000\n",
      "1000\n",
      "1000\n",
      "1000\n",
      "1000\n",
      "1000\n",
      "1000\n",
      "1000\n",
      "1000\n",
      "1000\n",
      "1000\n",
      "1000\n",
      "1000\n",
      "1000\n",
      "1000\n",
      "1000\n",
      "1000\n",
      "1000\n",
      "1000\n",
      "1000\n",
      "1000\n",
      "1000\n",
      "1000\n",
      "1000\n",
      "1000\n",
      "1000\n",
      "1000\n",
      "1000\n",
      "1000\n",
      "1000\n",
      "1000\n",
      "1000\n",
      "1000\n",
      "1000\n",
      "1000\n",
      "1000\n",
      "1000\n",
      "1000\n",
      "1000\n",
      "1000\n",
      "1000\n",
      "1000\n",
      "1000\n",
      "1000\n",
      "1000\n",
      "1000\n",
      "1000\n",
      "1000\n",
      "1000\n",
      "1000\n",
      "1000\n",
      "1000\n",
      "1000\n",
      "1000\n",
      "1000\n",
      "1000\n",
      "1000\n",
      "1000\n"
     ]
    }
   ],
   "source": [
    "for idx, sample in mgd:\n",
    "    print(sample.shape[0])"
   ]
  },
  {
   "cell_type": "code",
   "execution_count": 14,
   "metadata": {},
   "outputs": [
    {
     "name": "stdout",
     "output_type": "stream",
     "text": [
      "Sampling...\n"
     ]
    }
   ],
   "source": [
    "post_pred_torchnn_reg = hddm.utils.post_pred_gen(hddmnn_torch_reg_model,\n",
    "                                                 samples = 100,\n",
    "                                                 progress_bar = False)"
   ]
  },
  {
   "cell_type": "code",
   "execution_count": 36,
   "metadata": {},
   "outputs": [],
   "source": [
    "def plot_posterior_predictive(model = None, sim_model = None, \n",
    "                              samples = None, bin_size = 0.05, \n",
    "                              save = False, save_file_name = None,\n",
    "                              title = 'no_title',\n",
    "                              use_hddm = True,\n",
    "                              x_lims = (0, 10),\n",
    "                              post_pred_alpha = 0.1,\n",
    "                              mode = 'standard', # allows 'standard' (show uncertainty) and 'average' (single histogram for average posterior)\n",
    "                              post_pred_groupby = None,\n",
    "                              ):\n",
    "    \n",
    "    cl_dct = {-1:'orange',\n",
    "              0: 'black',\n",
    "              1: 'red',\n",
    "              2: 'green',\n",
    "              3: 'blue'}\n",
    "    \n",
    "    # Get posterior predictive samples\n",
    "    out = hddm.utils.post_pred_gen(model, \n",
    "                                   samples = samples, \n",
    "                                   groupby = post_pred_groupby, \n",
    "                                   append_data = False)\n",
    "\n",
    "    # Get  posterior samples  and plot those\n",
    "    if mode == 'standard':\n",
    "        for s_idx, sample in out.groupby('sample'):\n",
    "            for c in hddm.model_config.model_config[sim_model]['choices']:\n",
    "                weights_pp = np.tile((1 / bin_size) / sample.shape[0], reps = sample['rt'][sample['response'] == c].shape[0])\n",
    "                \n",
    "                plt.hist(sample['rt'][sample['response'] == c], \n",
    "                         density = False,\n",
    "                         weights = weights_pp,\n",
    "                         bins = np.arange(x_lims[0], x_lims[1], bin_size),\n",
    "                         histtype = 'step',\n",
    "                         color = cl_dct[c],\n",
    "                         alpha = post_pred_alpha)\n",
    "    \n",
    "    elif mode == 'average':\n",
    "        for c in hddm.model_config.model_config[sim_model]['choices']:\n",
    "                weights_pp = np.tile((1 / bin_size) / out.shape[0], reps = out['rt'][out['response'] == c].shape[0])\n",
    "                \n",
    "                plt.hist(out['rt'][out['response'] == c], \n",
    "                         density = False,\n",
    "                         weights = weights_pp,\n",
    "                         bins = np.arange(x_lims[0], x_lims[1], bin_size),\n",
    "                         histtype = 'step',\n",
    "                         color = cl_dct[c],\n",
    "                         linestyle = '--'\n",
    "                         alpha = 1)\n",
    "    \n",
    "    else:\n",
    "        return 'mode argument not recognized as valid (choose either [standard] or [average])'\n",
    "\n",
    "    # Add model data\n",
    "    for c in hddm.model_config.model_config[sim_model]['choices']:\n",
    "        weights = np.tile((1 / bin_size) / model.data['rt'].shape[0], \n",
    "                        reps = model.data['rt'][model.data['response'] == c].shape[0])\n",
    "        \n",
    "        plt.hist(model.data['rt'][model.data['response'] == c], \n",
    "                 density = False,\n",
    "                 weights = weights,\n",
    "                 bins = np.arange(x_lims[0], x_lims[1], bin_size),\n",
    "                 histtype = 'step',\n",
    "                 linestyle = '-',\n",
    "                 color = cl_dct[c])\n",
    "        \n",
    "        plt.title(title)\n",
    "    \n",
    "    if save:\n",
    "        plt.savefig(save_file_name + \".png\", \n",
    "                    format = \"png\")\n",
    "    plt.show()\n",
    "    return \n",
    "    "
   ]
  },
  {
   "cell_type": "code",
   "execution_count": 34,
   "metadata": {},
   "outputs": [
    {
     "name": "stdout",
     "output_type": "stream",
     "text": [
      " [--------------------------------------------------------------------------400%--------------------------------------------------------------------------] 4 of 1 complete in 10.8 sec"
     ]
    },
    {
     "data": {
      "image/png": "[encoded data removed]",
      "text/plain": [
       "<Figure size 640x480 with 1 Axes>"
      ]
     },
     "metadata": {},
     "output_type": "display_data"
    }
   ],
   "source": [
    "plot_posterior_predictive(model = hddmnn_torch_model,\n",
    "                         sim_model = model,\n",
    "                         samples = 100,\n",
    "                         bin_size = 0.1,\n",
    "                         post_pred_alpha = 0.01)"
   ]
  },
  {
   "cell_type": "code",
   "execution_count": 37,
   "metadata": {},
   "outputs": [
    {
     "name": "stdout",
     "output_type": "stream",
     "text": [
      " [--------------------------------------------------------------------------400%--------------------------------------------------------------------------] 4 of 1 complete in 12.1 sec"
     ]
    },
    {
     "data": {
      "image/png": "[encoded data removed]",
      "text/plain": [
       "<Figure size 640x480 with 1 Axes>"
      ]
     },
     "metadata": {},
     "output_type": "display_data"
    }
   ],
   "source": [
    "plot_posterior_predictive(model = hddmnn_torch_model,\n",
    "                         sim_model = model,\n",
    "                         samples = 100,\n",
    "                         bin_size = 0.1,\n",
    "                         post_pred_alpha = 0.01,\n",
    "                         mode = 'average')"
   ]
  },
  {
   "cell_type": "code",
   "execution_count": 40,
   "metadata": {},
   "outputs": [],
   "source": [
    "# thetas = np.tile(hddm.model_config.model_config[model]['default_params'], reps = (1000, 1))\n",
    "# thetas[:, 4] = np.linspace(0.01, 1.99, 1000)\n",
    "\n",
    "# out = hddm.simulators.basic_simulator.simulator(model = model, \n",
    "#                                 theta = thetas,\n",
    "#                                 n_samples = 1)"
   ]
  },
  {
   "cell_type": "code",
   "execution_count": null,
   "metadata": {},
   "outputs": [],
   "source": []
  }
 ],
 "metadata": {
  "interpreter": {
   "hash": "ff3096d2709bbb36a4584c44f6e6ffdb5e175071e94d34047f50b078bfdc1c6d"
  },
  "kernelspec": {
   "display_name": "Python 3.7.7 64-bit ('hddmnn_tutorial': conda)",
   "name": "python3"
  },
  "language_info": {
   "codemirror_mode": {
    "name": "ipython",
    "version": 3
   },
   "file_extension": ".py",
   "mimetype": "text/x-python",
   "name": "python",
   "nbconvert_exporter": "python",
   "pygments_lexer": "ipython3",
   "version": "3.7.7"
  },
  "orig_nbformat": 4
 },
 "nbformat": 4,
 "nbformat_minor": 2
}
